{
 "cells": [
  {
   "cell_type": "code",
   "execution_count": null,
   "metadata": {},
   "outputs": [],
   "source": [
    "import sys\n",
    "from pathlib import Path\n",
    "root_dir = Path.cwd().parent\n",
    "sys.path.append(str(root_dir / 'src'))\n",
    "from visual.MediaBiasVisualizer import MediaBiasVisualizer\n",
    "\n",
    "# Uso do visualizador\n",
    "visualizer = MediaBiasVisualizer('../output')\n",
    "\n",
    "# Lista de portais\n",
    "portals = ['G1', 'Folha', 'Gazeta', 'CNN', 'Istoe', 'Metropoles']\n",
    "\n",
    "# Plota gráficos individuais\n",
    "for portal in portals:\n",
    "    visualizer.plot_portal_bias(portal)"
   ]
  },
  {
   "cell_type": "code",
   "execution_count": null,
   "metadata": {},
   "outputs": [],
   "source": []
  }
 ],
 "metadata": {
  "kernelspec": {
   "display_name": "base",
   "language": "python",
   "name": "python3"
  },
  "language_info": {
   "codemirror_mode": {
    "name": "ipython",
    "version": 3
   },
   "file_extension": ".py",
   "mimetype": "text/x-python",
   "name": "python",
   "nbconvert_exporter": "python",
   "pygments_lexer": "ipython3",
   "version": "3.12.2"
  }
 },
 "nbformat": 4,
 "nbformat_minor": 2
}
